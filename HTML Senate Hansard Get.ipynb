{
 "cells": [
  {
   "cell_type": "code",
   "execution_count": 2,
   "metadata": {},
   "outputs": [],
   "source": [
    "#Import modules\n",
    "import urllib\n",
    "import time\n",
    "import datetime\n",
    "import pandas as pd\n",
    "import shutil\n",
    "import os"
   ]
  },
  {
   "cell_type": "code",
   "execution_count": 7,
   "metadata": {
    "scrolled": true
   },
   "outputs": [
    {
     "name": "stdout",
     "output_type": "stream",
     "text": [
      "https://sencanada.ca/en/content/sen/chamber/412/debates/162db_2015-06-30-e\n"
     ]
    },
    {
     "ename": "PermissionError",
     "evalue": "[Errno 13] Permission denied: '/Senate Hansard Parliament 42 Session 2'",
     "output_type": "error",
     "traceback": [
      "\u001b[0;31m---------------------------------------------------------------------------\u001b[0m",
      "\u001b[0;31mPermissionError\u001b[0m                           Traceback (most recent call last)",
      "\u001b[0;32m<ipython-input-7-94c8ab17414c>\u001b[0m in \u001b[0;36m<module>\u001b[0;34m()\u001b[0m\n\u001b[1;32m     36\u001b[0m \u001b[0;34m\u001b[0m\u001b[0m\n\u001b[1;32m     37\u001b[0m         \u001b[0;31m#Copy HTML of site onto local file\u001b[0m\u001b[0;34m\u001b[0m\u001b[0;34m\u001b[0m\u001b[0m\n\u001b[0;32m---> 38\u001b[0;31m         \u001b[0mos\u001b[0m\u001b[0;34m.\u001b[0m\u001b[0mmkdir\u001b[0m\u001b[0;34m(\u001b[0m\u001b[0;34m\"/Senate Hansard Parliament \"\u001b[0m\u001b[0;34m+\u001b[0m\u001b[0msession\u001b[0m\u001b[0;34m[\u001b[0m\u001b[0;34m:\u001b[0m\u001b[0;34m:\u001b[0m\u001b[0;36m2\u001b[0m\u001b[0;34m]\u001b[0m\u001b[0;34m+\u001b[0m\u001b[0;34m\" Session \"\u001b[0m\u001b[0;34m+\u001b[0m\u001b[0msession\u001b[0m\u001b[0;34m[\u001b[0m\u001b[0;34m:\u001b[0m\u001b[0;36m1\u001b[0m\u001b[0;34m:\u001b[0m\u001b[0;34m-\u001b[0m\u001b[0;36m1\u001b[0m\u001b[0;34m]\u001b[0m\u001b[0;34m)\u001b[0m\u001b[0;34m\u001b[0m\u001b[0m\n\u001b[0m\u001b[1;32m     39\u001b[0m         \u001b[0mfile\u001b[0m \u001b[0;34m=\u001b[0m \u001b[0mopen\u001b[0m\u001b[0;34m(\u001b[0m\u001b[0;34m\"/Senate Hansard Parliament \"\u001b[0m\u001b[0;34m+\u001b[0m\u001b[0msession\u001b[0m\u001b[0;34m[\u001b[0m\u001b[0;34m:\u001b[0m\u001b[0;34m:\u001b[0m\u001b[0;36m2\u001b[0m\u001b[0;34m]\u001b[0m\u001b[0;34m+\u001b[0m\u001b[0;34m\" Session \"\u001b[0m\u001b[0;34m+\u001b[0m\u001b[0msession\u001b[0m\u001b[0;34m[\u001b[0m\u001b[0;34m:\u001b[0m\u001b[0;36m1\u001b[0m\u001b[0;34m:\u001b[0m\u001b[0;34m-\u001b[0m\u001b[0;36m1\u001b[0m\u001b[0;34m]\u001b[0m\u001b[0;34m+\u001b[0m\u001b[0;34m\"/\"\u001b[0m\u001b[0;34m+\u001b[0m\u001b[0msession\u001b[0m\u001b[0;34m+\u001b[0m\u001b[0;34m\"_\"\u001b[0m\u001b[0;34m+\u001b[0m\u001b[0mstr\u001b[0m\u001b[0;34m(\u001b[0m\u001b[0missue_number\u001b[0m\u001b[0;34m)\u001b[0m\u001b[0;34m+\u001b[0m\u001b[0;34m\"_\"\u001b[0m\u001b[0;34m+\u001b[0m\u001b[0mstr\u001b[0m\u001b[0;34m(\u001b[0m\u001b[0mdatelist\u001b[0m\u001b[0;34m[\u001b[0m\u001b[0mi\u001b[0m\u001b[0;34m]\u001b[0m\u001b[0;34m)\u001b[0m\u001b[0;34m+\u001b[0m\u001b[0;34m\".html\"\u001b[0m\u001b[0;34m,\u001b[0m\u001b[0;34m\"wb\"\u001b[0m\u001b[0;34m)\u001b[0m\u001b[0;34m\u001b[0m\u001b[0m\n\u001b[1;32m     40\u001b[0m         \u001b[0mshutil\u001b[0m\u001b[0;34m.\u001b[0m\u001b[0mcopyfileobj\u001b[0m\u001b[0;34m(\u001b[0m\u001b[0mhtml\u001b[0m\u001b[0;34m,\u001b[0m\u001b[0mfile\u001b[0m\u001b[0;34m)\u001b[0m\u001b[0;34m\u001b[0m\u001b[0m\n",
      "\u001b[0;31mPermissionError\u001b[0m: [Errno 13] Permission denied: '/Senate Hansard Parliament 42 Session 2'"
     ]
    }
   ],
   "source": [
    "#NOTE: the urls are iterated in reverse order from most recent to least\n",
    "\n",
    "#Set Parliament and associated Session\n",
    "#ex. 421 = 42nd Parliament, 1st session\n",
    "parliament_session = [\"412\"]\n",
    "\n",
    "#Set the issue number of the Senate session (must be corresponded with the correct date)\n",
    "#2018-09-18 = Issue 226\n",
    "issue_number = 162\n",
    "\n",
    "#Get list of business dates (in descending order)\n",
    "#Recommend moving in sections from end of June to the beginning of September of previous year, depending on session\n",
    "datelist = pd.bdate_range(start=\"2014-09-16\",end=\"2015-06-30\").date.tolist()\n",
    "datelist = datelist[::-1]\n",
    "\n",
    "url_error = \"Sorry, the content is not available.\"\n",
    "\n",
    "#Simple function to get the url from the above information\n",
    "def url_funct(session,issue_number,i):   \n",
    "    #Convert 2 or 1 digit numbers to 3 digit (i.e. 99 to 099) to satisfy url requirements\n",
    "    if len(str(issue_number)) == 2:\n",
    "        issue_number_str = \"0\"+str(issue_number)\n",
    "        url = \"https://sencanada.ca/en/content/sen/chamber/\"+session+\"/debates/\"+issue_number_str+\"db_\"+str(datelist[i])+\"-e\"\n",
    "    elif len(str(issue_number)) == 1:\n",
    "        issue_number_str = \"00\"+str(issue_number)\n",
    "        url = \"https://sencanada.ca/en/content/sen/chamber/\"+session+\"/debates/\"+issue_number_str+\"db_\"+str(datelist[i])+\"-e\"\n",
    "    else:\n",
    "        url = \"https://sencanada.ca/en/content/sen/chamber/\"+session+\"/debates/\"+str(issue_number)+\"db_\"+str(datelist[i])+\"-e\"\n",
    "    return url\n",
    "\n",
    "for session in parliament_session:\n",
    "    for num,i in enumerate(range(len(datelist))):\n",
    "        starttime = time.time()\n",
    "        print(url_funct(session,issue_number,i))\n",
    "        html = urllib.request.urlopen(url_funct(session,issue_number,i))\n",
    "    \n",
    "        #Copy HTML of site onto local file\n",
    "        #os.mkdir(\"/Senate Hansard Parliament \"+session[::2]+\" Session \"+session[:1:-1])\n",
    "        #file = open(\"/Senate Hansard Parliament \"+session[::2]+\" Session \"+session[:1:-1]+\"/\"+session+\"_\"+str(issue_number)+\"_\"+str(datelist[i])+\".html\",\"wb\")\n",
    "        file = open(\"/\"+session+\"_\"+str(issue_number)+\"_\"+str(datelist[i])+\".html\",\"wb\")\n",
    "        shutil.copyfileobj(html,file)\n",
    "        file.close()\n",
    "        \n",
    "        #Check if HTML is invalid, delete file if true (also makes it so that issue_number only decreases if url was valid)\n",
    "        #Currently convoluted, but only method I found thus far\n",
    "        with open(session+\"_\"+str(issue_number)+\"_\"+str(datelist[i])+\".html\") as error_check_HTML:\n",
    "            for line in error_check_HTML:\n",
    "                if url_error in line:\n",
    "                    print(\"The previous URL does not exist.\")\n",
    "                    os.remove(session+\"_\"+str(issue_number)+\"_\"+str(datelist[i])+\".html\")\n",
    "                    issue_number += 1\n",
    "                    break\n",
    "                else:\n",
    "                    pass\n",
    "            issue_number -= 1\n",
    "            \n",
    "        #Code sleeps for 3 seconds after each iteration to avoid overcrowding site\n",
    "        time.sleep(3.0 - ((time.time() - starttime) % 3.0))\n",
    "        \n",
    "        #Code sleeps for 30 seconds after every 30 iterations for additional delay\n",
    "        if num == 30:\n",
    "            time.sleep(30.0 - ((time.time() - starttime) % 30.0))"
   ]
  },
  {
   "cell_type": "code",
   "execution_count": null,
   "metadata": {},
   "outputs": [],
   "source": []
  },
  {
   "cell_type": "code",
   "execution_count": null,
   "metadata": {},
   "outputs": [],
   "source": []
  }
 ],
 "metadata": {
  "kernelspec": {
   "display_name": "Python 3",
   "language": "python",
   "name": "python3"
  },
  "language_info": {
   "codemirror_mode": {
    "name": "ipython",
    "version": 3
   },
   "file_extension": ".py",
   "mimetype": "text/x-python",
   "name": "python",
   "nbconvert_exporter": "python",
   "pygments_lexer": "ipython3",
   "version": "3.6.4"
  }
 },
 "nbformat": 4,
 "nbformat_minor": 2
}
